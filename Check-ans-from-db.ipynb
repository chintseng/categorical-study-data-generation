{
 "cells": [
  {
   "cell_type": "code",
   "execution_count": 1,
   "id": "203c1461",
   "metadata": {},
   "outputs": [
    {
     "data": {
      "text/plain": [
       "<firebase_admin.App at 0x7fca585e9910>"
      ]
     },
     "execution_count": 1,
     "metadata": {},
     "output_type": "execute_result"
    }
   ],
   "source": [
    "import firebase_admin\n",
    "from firebase_admin import credentials\n",
    "from firebase_admin import firestore \n",
    "\n",
    "cred = credentials.Certificate(\"./serviceAccountKey.json\")\n",
    "firebase_admin.initialize_app(cred)"
   ]
  },
  {
   "cell_type": "code",
   "execution_count": 16,
   "id": "b5f12c42",
   "metadata": {},
   "outputs": [
    {
     "name": "stdout",
     "output_type": "stream",
     "text": [
      "TlJSmGLHT35oEZcgnRFY => {'Q_4': ['0', 1.9], 'Q_9': ['0', 1.7], 'Q_19': ['0', 2.1], 'task_id': 1, 'color': 'D3', 'Q_16': ['0', 1.8], 'Q_12': ['1', 1.6], 'Q_14': ['1', 1.3], 'Q_0': ['0', 1.9], 'Q_6': ['1', 1.6], 'Q_10': ['0', 2.3], 'Q_5': ['1', 1.6], 'Q_17': ['1', 3.1], 'Q_15': ['0', 3.2], 'Q_18': ['0', 1.9], 'Q_3': ['1', 2.1], 'Q_2': ['0', 1.7], 'Q_8': ['0', 1.6], 'Q_1': ['1', 1.8], 'Q_7': ['0', 1.5], 'Q_11': ['0', 1.8], 'Q_13': ['0', 1.6]}\n",
      "1.0\n",
      "g1csajnDJ9BiKJR6tGZg => {'Q_3': ['0', 2.1], 'Q_17': ['1', 1.9], 'Q_2': ['1', 2.2], 'Q_7': ['0', 1.8], 'Q_11': ['0', 2.1], 'Q_1': ['1', 1.8], 'task_id': 9, 'Q_15': ['0', 1.5], 'Q_16': ['1', 1.7], 'Q_12': ['0', 2.3], 'Q_10': ['0', 3.1], 'Q_9': ['1', 2.4], 'Q_6': ['1', 1.9], 'Q_4': ['1', 1.5], 'color': 'D3', 'Q_18': ['0', 2], 'Q_0': ['1', 4], 'Q_19': ['1', 2.5], 'Q_14': ['0', 1.7], 'Q_13': ['0', 1.8], 'Q_5': ['0', 2.1], 'Q_8': ['0', 2.9]}\n",
      "1.0\n"
     ]
    }
   ],
   "source": [
    "db = firebase_admin.firestore.client()\n",
    "docs = db.collection(u'tasks').stream()\n",
    "\n",
    "for doc in docs:\n",
    "    print(f'{doc.id} => {doc.to_dict()}')\n",
    "    task_dict = doc.to_dict()\n",
    "    task_id = task_dict['task_id']\n",
    "    ans = pd.read_csv('./'+str(task_id)+'/ans.csv')\n",
    "    correct_cnt = 0\n",
    "    for i in range(20):\n",
    "        true_ans = ans[ans['file_index'] == i]['ans'].to_list()[0]\n",
    "        if (true_ans == int(task_dict['Q_'+str(i)][0])):\n",
    "            correct_cnt += 1\n",
    "    print(correct_cnt/20)"
   ]
  },
  {
   "cell_type": "code",
   "execution_count": 4,
   "id": "49e7d626",
   "metadata": {},
   "outputs": [],
   "source": [
    "import pandas as pd"
   ]
  },
  {
   "cell_type": "code",
   "execution_count": 8,
   "id": "c13b379d",
   "metadata": {},
   "outputs": [],
   "source": [
    "for i in range(10):\n",
    "    my_ans = {'file_index': [], 'ans': []}\n",
    "    for j in range(20):\n",
    "        df = pd.read_csv('./'+str(i)+'/'+str(j)+'.csv')\n",
    "        a = df[df['ca'] == 0]['y'].to_list()\n",
    "        b = df[df['ca'] == 1]['y'].to_list()\n",
    "        my_ans['file_index'].append(j)\n",
    "        if sum(a)/len(a) > sum(b)/len(b):\n",
    "            my_ans['ans'].append(0)\n",
    "        else:\n",
    "            my_ans['ans'].append(1)\n",
    "    pd.DataFrame.from_dict(my_ans).to_csv('./'+str(i)+'/'+'ans.csv', index=False)"
   ]
  },
  {
   "cell_type": "code",
   "execution_count": 9,
   "id": "061fddc1",
   "metadata": {},
   "outputs": [],
   "source": [
    "ans = pd.read_csv('./'+str(0)+'/ans.csv')"
   ]
  },
  {
   "cell_type": "code",
   "execution_count": 14,
   "id": "f1541ced",
   "metadata": {},
   "outputs": [
    {
     "data": {
      "text/plain": [
       "[1]"
      ]
     },
     "execution_count": 14,
     "metadata": {},
     "output_type": "execute_result"
    }
   ],
   "source": [
    "ans[ans['file_index'] == 7]['ans'].to_list()"
   ]
  },
  {
   "cell_type": "code",
   "execution_count": null,
   "id": "de50eb8d",
   "metadata": {},
   "outputs": [],
   "source": []
  }
 ],
 "metadata": {
  "kernelspec": {
   "display_name": "Python 3 (ipykernel)",
   "language": "python",
   "name": "python3"
  },
  "language_info": {
   "codemirror_mode": {
    "name": "ipython",
    "version": 3
   },
   "file_extension": ".py",
   "mimetype": "text/x-python",
   "name": "python",
   "nbconvert_exporter": "python",
   "pygments_lexer": "ipython3",
   "version": "3.9.7"
  }
 },
 "nbformat": 4,
 "nbformat_minor": 5
}
